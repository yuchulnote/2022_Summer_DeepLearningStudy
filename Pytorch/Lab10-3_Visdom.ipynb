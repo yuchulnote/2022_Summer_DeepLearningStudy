{
 "cells": [
  {
   "cell_type": "code",
   "execution_count": 13,
   "id": "3d524919",
   "metadata": {},
   "outputs": [],
   "source": [
    "import torch\n",
    "import torch.nn as nn\n",
    "import torchvision\n",
    "import torchvision.datasets as dsets\n",
    "import torchvision.transforms as transforms\n",
    "\n",
    "import torch.nn.init"
   ]
  },
  {
   "cell_type": "code",
   "execution_count": 14,
   "id": "084124ed",
   "metadata": {},
   "outputs": [
    {
     "name": "stderr",
     "output_type": "stream",
     "text": [
      "Setting up a new session...\n"
     ]
    }
   ],
   "source": [
    "import visdom\n",
    "\n",
    "vis = visdom.Visdom()"
   ]
  },
  {
   "cell_type": "code",
   "execution_count": 15,
   "id": "cad7277c",
   "metadata": {},
   "outputs": [
    {
     "data": {
      "text/plain": [
       "'window_3afe04bb0b3896'"
      ]
     },
     "execution_count": 15,
     "metadata": {},
     "output_type": "execute_result"
    }
   ],
   "source": [
    "vis.text(\"Hello, world!\",env=\"main\")"
   ]
  },
  {
   "cell_type": "code",
   "execution_count": 16,
   "id": "e8110459",
   "metadata": {},
   "outputs": [
    {
     "data": {
      "text/plain": [
       "'window_3afe04bbf318f0'"
      ]
     },
     "execution_count": 16,
     "metadata": {},
     "output_type": "execute_result"
    }
   ],
   "source": [
    "a = torch.randn(3, 200, 200)\n",
    "vis.image(a)"
   ]
  },
  {
   "cell_type": "code",
   "execution_count": 19,
   "id": "9d324b41",
   "metadata": {},
   "outputs": [
    {
     "name": "stdout",
     "output_type": "stream",
     "text": [
      "Downloading https://www.cs.toronto.edu/~kriz/cifar-10-python.tar.gz to E:\\DeepLearningStudy/cifar-10-python.tar.gz\n"
     ]
    },
    {
     "name": "stderr",
     "output_type": "stream",
     "text": [
      "100.0%\n"
     ]
    },
    {
     "name": "stdout",
     "output_type": "stream",
     "text": [
      "Extracting E:\\DeepLearningStudy/cifar-10-python.tar.gz to E:\\DeepLearningStudy\n"
     ]
    }
   ],
   "source": [
    "MNIST = dsets.MNIST(root=\"E:\\DeepLearningStudy\", train=True, transform=torchvision.transforms.ToTensor(),download=True)\n",
    "cifar10 = dsets.CIFAR10(root=\"E:\\DeepLearningStudy\",train = True, transform=torchvision.transforms.ToTensor(),download=True)"
   ]
  },
  {
   "cell_type": "code",
   "execution_count": 21,
   "id": "3854a0a9",
   "metadata": {},
   "outputs": [
    {
     "name": "stdout",
     "output_type": "stream",
     "text": [
      "torch.Size([3, 32, 32])\n"
     ]
    },
    {
     "data": {
      "text/plain": [
       "'window_3afe05ce4a7bf0'"
      ]
     },
     "execution_count": 21,
     "metadata": {},
     "output_type": "execute_result"
    }
   ],
   "source": [
    "data = cifar10.__getitem__(1)\n",
    "print(data[0].shape)\n",
    "vis.images(data[0],env=\"main\")"
   ]
  },
  {
   "cell_type": "code",
   "execution_count": 22,
   "id": "4e6dfc70",
   "metadata": {},
   "outputs": [
    {
     "name": "stdout",
     "output_type": "stream",
     "text": [
      "torch.Size([1, 28, 28])\n"
     ]
    },
    {
     "data": {
      "text/plain": [
       "'window_3afe05d67f4d98'"
      ]
     },
     "execution_count": 22,
     "metadata": {},
     "output_type": "execute_result"
    }
   ],
   "source": [
    "data = MNIST.__getitem__(0)\n",
    "print(data[0].shape)\n",
    "vis.images(data[0],env=\"main\")"
   ]
  },
  {
   "cell_type": "code",
   "execution_count": 23,
   "id": "c28788f2",
   "metadata": {},
   "outputs": [],
   "source": [
    "data_loader = torch.utils.data.DataLoader(dataset = MNIST,\n",
    "                                          batch_size = 32,\n",
    "                                          shuffle = False)"
   ]
  },
  {
   "cell_type": "code",
   "execution_count": 24,
   "id": "b60edc9c",
   "metadata": {},
   "outputs": [
    {
     "name": "stdout",
     "output_type": "stream",
     "text": [
      "torch.Size([32, 1, 28, 28])\n"
     ]
    }
   ],
   "source": [
    "for num, value in enumerate(data_loader):\n",
    "    value = value[0]\n",
    "    print(value.shape)\n",
    "    vis.images(value)\n",
    "    break"
   ]
  },
  {
   "cell_type": "code",
   "execution_count": 26,
   "id": "c97fe41e",
   "metadata": {},
   "outputs": [],
   "source": [
    "Y_data = torch.randn(5)\n",
    "plt = vis.line(Y=Y_data)"
   ]
  },
  {
   "cell_type": "code",
   "execution_count": 27,
   "id": "04751d77",
   "metadata": {},
   "outputs": [],
   "source": [
    "Y_data = torch.randn(6)\n",
    "plt = vis.line(Y=Y_data)"
   ]
  },
  {
   "cell_type": "code",
   "execution_count": 29,
   "id": "230bdbea",
   "metadata": {},
   "outputs": [],
   "source": [
    "X_data = torch.Tensor([1,2,3,4,5,6])\n",
    "plt = vis.line(Y=Y_data, X=X_data)"
   ]
  },
  {
   "cell_type": "code",
   "execution_count": 30,
   "id": "91b50bb3",
   "metadata": {},
   "outputs": [
    {
     "data": {
      "text/plain": [
       "'window_3afe094d2dc606'"
      ]
     },
     "execution_count": 30,
     "metadata": {},
     "output_type": "execute_result"
    }
   ],
   "source": [
    "Y_append = torch.randn(1)\n",
    "X_append = torch.Tensor([6])\n",
    "\n",
    "vis.line(Y=Y_append, X=X_append, win=plt, update='append')"
   ]
  },
  {
   "cell_type": "code",
   "execution_count": 31,
   "id": "e216103b",
   "metadata": {},
   "outputs": [
    {
     "name": "stdout",
     "output_type": "stream",
     "text": [
      "torch.Size([10])\n",
      "torch.Size([10, 1])\n",
      "torch.Size([10, 2])\n"
     ]
    }
   ],
   "source": [
    "num = torch.Tensor(list(range(0,10)))\n",
    "print(num.shape)\n",
    "num = num.view(-1,1)\n",
    "print(num.shape)\n",
    "num = torch.cat((num,num),dim=1)\n",
    "print(num.shape)\n",
    "\n",
    "plt = vis.line(Y=torch.randn(10,2), X = num)"
   ]
  },
  {
   "cell_type": "code",
   "execution_count": 32,
   "id": "ee034ef7",
   "metadata": {},
   "outputs": [],
   "source": [
    "plt = vis.line(Y=Y_data, X=X_data, opts = dict(title='Test', showlegend=True))"
   ]
  },
  {
   "cell_type": "code",
   "execution_count": 33,
   "id": "33747bde",
   "metadata": {},
   "outputs": [],
   "source": [
    "plt = vis.line(Y=Y_data, X=X_data, opts = dict(title='Test', legend = ['1번'],showlegend=True))"
   ]
  },
  {
   "cell_type": "code",
   "execution_count": 34,
   "id": "a7fbd709",
   "metadata": {},
   "outputs": [],
   "source": [
    "plt = vis.line(Y=torch.randn(10,2), X = num, opts=dict(title='Test', legend=['1번','2번'],showlegend=True))"
   ]
  }
 ],
 "metadata": {
  "kernelspec": {
   "display_name": "Python 3 (ipykernel)",
   "language": "python",
   "name": "python3"
  },
  "language_info": {
   "codemirror_mode": {
    "name": "ipython",
    "version": 3
   },
   "file_extension": ".py",
   "mimetype": "text/x-python",
   "name": "python",
   "nbconvert_exporter": "python",
   "pygments_lexer": "ipython3",
   "version": "3.7.13"
  }
 },
 "nbformat": 4,
 "nbformat_minor": 5
}
